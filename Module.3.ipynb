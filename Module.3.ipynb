{
 "cells": [
  {
   "cell_type": "code",
   "execution_count": null,
   "id": "244567f8",
   "metadata": {},
   "outputs": [],
   "source": [
    "#1. Write a Python function to get the largest number, smallest num and sum\n",
    "# of all from a list.\n",
    "# For Largest\n",
    "list1=[5,4,2,1,9,8]\n",
    "list1.sort()\n",
    "print(list1)\n",
    "a=list1[-1]\n",
    "print(\"The largest item in the list:\",a)\n",
    "\n",
    "#For smallest\n",
    "list2=[5,4,2,1,9,8]\n",
    "list2.sort()\n",
    "print(list1)\n",
    "a=list2[0]\n",
    "print(\"The smallest item in the list:\",a)\n",
    "\n",
    "\n",
    "#sum\n",
    "sum=(list1+list2)\n",
    "print(sum)\n"
   ]
  },
  {
   "cell_type": "code",
   "execution_count": 8,
   "id": "b47bebee",
   "metadata": {},
   "outputs": [
    {
     "name": "stdout",
     "output_type": "stream",
     "text": [
      "the given words are: aba\n",
      "the given words are: 121\n",
      "no. of words you want: 2\n"
     ]
    }
   ],
   "source": [
    "#2. Write a Python program to count the number of strings where the string\n",
    "# length is 2 or more and the first and last character are same from a given\n",
    "# list of strings.\n",
    "s=0\n",
    "list1=['aba','121','kgf','abc']\n",
    "for x in list1:\n",
    "    if len(x)>1 and x[0]==x[-1]:\n",
    "        print(\"the given words are:\",x)\n",
    "        s=s+1\n",
    "print('no. of words you want:',s)"
   ]
  },
  {
   "cell_type": "code",
   "execution_count": 11,
   "id": "9bebecf7",
   "metadata": {},
   "outputs": [
    {
     "name": "stdout",
     "output_type": "stream",
     "text": [
      "[1, 2, 4, 5, 6, 7, 8, 9, 56]\n"
     ]
    }
   ],
   "source": [
    "#3. Write a Python program to remove duplicates from a list\n",
    "list1=[1,2,4,5,6,7,7,8,8,9,56]\n",
    "result=[]\n",
    "for i in list1:\n",
    "    if i not in result:\n",
    "        result.append(i)\n",
    "print(result)\n"
   ]
  },
  {
   "cell_type": "code",
   "execution_count": 13,
   "id": "67d46177",
   "metadata": {},
   "outputs": [
    {
     "name": "stdout",
     "output_type": "stream",
     "text": [
      "list is not empty\n"
     ]
    }
   ],
   "source": [
    "#4. Write a Python program to check a list is empty or not. \n",
    "l=[3]\n",
    "if not l:\n",
    "    print(\"list is empty\")\n",
    "else:\n",
    "    print(\"list is not empty\")\n"
   ]
  },
  {
   "cell_type": "code",
   "execution_count": 16,
   "id": "eacfe4d7",
   "metadata": {},
   "outputs": [
    {
     "name": "stdout",
     "output_type": "stream",
     "text": [
      "True\n"
     ]
    }
   ],
   "source": [
    "#5. Write a Python function that takes two lists and returns true if they have\n",
    "# at least one common member\n",
    "list1=[1,2,3,4,5]\n",
    "list2=[5,6,7,8,9]\n",
    "for i in list1:\n",
    "    for j in list2:\n",
    "        if(i==j):\n",
    "            print(\"True\")"
   ]
  },
  {
   "cell_type": "code",
   "execution_count": null,
   "id": "3a6cb1e2",
   "metadata": {},
   "outputs": [],
   "source": [
    "# 6.Write a Python program to generate and print a list of first and last 5\n",
    "# elements where the values are square of numbers between 1 and 30. \n",
    "l=[]\n",
    "for i in range(1,30):\n",
    "    l.append(i**2)\n",
    "print('Sq of first five: ',l[:5])\n",
    "print('Sq of last five:  ',l[-5:])"
   ]
  },
  {
   "cell_type": "code",
   "execution_count": null,
   "id": "aedf02cd",
   "metadata": {},
   "outputs": [],
   "source": [
    "# 7.Write a Python function that takes a list and returns a new list with unique\n",
    "# elements of the first list. "
   ]
  },
  {
   "cell_type": "code",
   "execution_count": 18,
   "id": "4aa92171",
   "metadata": {},
   "outputs": [
    {
     "name": "stdout",
     "output_type": "stream",
     "text": [
      "shweta\n"
     ]
    }
   ],
   "source": [
    "#8. Write a Python program to convert a list of characters into a string.\n",
    "i=[\"s\",\"h\",\"w\",\"e\",\"t\",\"a\"]\n",
    "str1=\"\".join(i)\n",
    "print(str1)"
   ]
  },
  {
   "cell_type": "code",
   "execution_count": 19,
   "id": "ade978b7",
   "metadata": {},
   "outputs": [],
   "source": [
    "#9.Write a Python program to select an item randomly from a list. \n"
   ]
  },
  {
   "cell_type": "code",
   "execution_count": 20,
   "id": "c40392fe",
   "metadata": {},
   "outputs": [],
   "source": [
    "#10.Write a Python program to find the second smallest number in a list. \n"
   ]
  },
  {
   "cell_type": "code",
   "execution_count": 21,
   "id": "2b75e619",
   "metadata": {},
   "outputs": [
    {
     "name": "stdout",
     "output_type": "stream",
     "text": [
      "[1, 2, 3, 4, 5]\n"
     ]
    }
   ],
   "source": [
    "#11.Write a Python program to get unique values from a list \n",
    "\n",
    "list=[1,2,3,4,5,4,5,3,4]\n",
    "unique_list=[]\n",
    "for a in list:\n",
    "    if a not in unique_list:\n",
    "        unique_list.append(a)\n",
    "print(unique_list)"
   ]
  },
  {
   "cell_type": "code",
   "execution_count": 22,
   "id": "ef89ccf8",
   "metadata": {},
   "outputs": [
    {
     "name": "stdout",
     "output_type": "stream",
     "text": [
      "Sublist is present in list\n"
     ]
    }
   ],
   "source": [
    "#12.Write a Python program to check whether a list contains a sub list \n",
    "list1=['a','b',[1,2,3,4,'shweta']]\n",
    "for i in list1:\n",
    "    if len(i)>1:\n",
    "        print(\"Sublist is present in list\")\n",
    "        break\n",
    "else:\n",
    "    print(\"Sublist is absent in list\")\n"
   ]
  },
  {
   "cell_type": "code",
   "execution_count": 23,
   "id": "3d02011d",
   "metadata": {},
   "outputs": [
    {
     "name": "stdout",
     "output_type": "stream",
     "text": [
      "names:  ['Shweta', 'Nidhi', 'Rushita']\n",
      "var a: Shweta\n",
      "var b: Nidhi\n",
      "var c: Rushita\n"
     ]
    }
   ],
   "source": [
    "#13.Write a Python program to split a list into different variables. \n",
    "names=['Shweta','Nidhi','Rushita']\n",
    "print(\"names: \",names)\n",
    "a,b,c=names\n",
    "print(\"var a:\",a)\n",
    "print(\"var b:\",b)\n",
    "print(\"var c:\",c)"
   ]
  },
  {
   "cell_type": "code",
   "execution_count": 24,
   "id": "80d1e3a5",
   "metadata": {},
   "outputs": [
    {
     "name": "stdout",
     "output_type": "stream",
     "text": [
      "[2.1, 'shweta', 21, False]\n"
     ]
    }
   ],
   "source": [
    "#14.Write a Python program to create a tuple with different data types.\n",
    "tuple1=[2.1,\"shweta\",21,False]\n",
    "print(tuple1)\n"
   ]
  },
  {
   "cell_type": "code",
   "execution_count": 25,
   "id": "55d6a53f",
   "metadata": {},
   "outputs": [
    {
     "name": "stdout",
     "output_type": "stream",
     "text": [
      "(2, 21, 23, 34, 55, 67)\n"
     ]
    }
   ],
   "source": [
    "#15.Write a Python program to create a tuple with numbers. \n",
    "tuple1 = 2,21,23,34,55,67\n",
    "print(tuple1)"
   ]
  },
  {
   "cell_type": "code",
   "execution_count": 28,
   "id": "6d00923f",
   "metadata": {},
   "outputs": [
    {
     "name": "stdout",
     "output_type": "stream",
     "text": [
      "shweta\n"
     ]
    }
   ],
   "source": [
    "#16.Write a Python program to convert a tuple to a string. \n",
    "tuple1= (\"s\",\"h\",\"w\",\"e\",\"t\",\"a\")\n",
    "str1 = \"\".join(tuple1)\n",
    "print(str1)"
   ]
  },
  {
   "cell_type": "code",
   "execution_count": 31,
   "id": "a53fb473",
   "metadata": {},
   "outputs": [
    {
     "name": "stdout",
     "output_type": "stream",
     "text": [
      "True\n"
     ]
    }
   ],
   "source": [
    "#17.Write a Python program to check whether an element exists within a\n",
    "# tuple. \n",
    "tuple1 = (1,2,3,4,56)\n",
    "print(1 in tuple1)"
   ]
  },
  {
   "cell_type": "code",
   "execution_count": 35,
   "id": "6613d8d8",
   "metadata": {},
   "outputs": [
    {
     "name": "stdout",
     "output_type": "stream",
     "text": [
      "H2SO3\n",
      "5\n"
     ]
    }
   ],
   "source": [
    "#18.Write a Python program to find the length of a tuple. \n",
    "tuple1= (\"H2SO3\")\n",
    "print(tuple1)\n",
    "print(len(tuple1))"
   ]
  },
  {
   "cell_type": "code",
   "execution_count": 36,
   "id": "4b75ac06",
   "metadata": {},
   "outputs": [
    {
     "name": "stdout",
     "output_type": "stream",
     "text": [
      "[1, 2, 3, 4, False, 2.1]\n",
      "[1, 2, 3, 4, False, 2.1]\n"
     ]
    }
   ],
   "source": [
    "#19.Write a Python program to convert a list to a tuple. \n",
    "list1= [1,2,3,4,False,2.1]\n",
    "print(list1)\n",
    "tuple1 = list1\n",
    "print(tuple1)"
   ]
  },
  {
   "cell_type": "code",
   "execution_count": 43,
   "id": "ffc63995",
   "metadata": {},
   "outputs": [
    {
     "name": "stdout",
     "output_type": "stream",
     "text": [
      "(7, 6, 5, 4, 3, 2)\n"
     ]
    },
    {
     "data": {
      "text/plain": [
       "tuple"
      ]
     },
     "execution_count": 43,
     "metadata": {},
     "output_type": "execute_result"
    }
   ],
   "source": [
    "#20.Write a Python program to reverse a tuple.\n",
    "x = (2,3,4,5,6,7)\n",
    "y = reversed(x)\n",
    "print(tuple(y))\n",
    "type(x)"
   ]
  },
  {
   "cell_type": "code",
   "execution_count": 44,
   "id": "74a1b7a2",
   "metadata": {},
   "outputs": [
    {
     "name": "stdout",
     "output_type": "stream",
     "text": [
      "[(10, 20, 100), (40, 50, 100), (70, 80, 100)]\n"
     ]
    }
   ],
   "source": [
    "#21.Write a Python program to replace last value of tuples in a list. \n",
    "l = [(10, 20, 40), (40, 50, 60), (70, 80, 90)]\n",
    "print([t[:-1] + (100,) for t in l])\n"
   ]
  },
  {
   "cell_type": "code",
   "execution_count": 48,
   "id": "073571c4",
   "metadata": {},
   "outputs": [
    {
     "name": "stdout",
     "output_type": "stream",
     "text": [
      "(1, 2, 3, 4, 4, 4, 5, 6, 7)\n",
      "3\n"
     ]
    }
   ],
   "source": [
    "#22.Write a Python program to find the repeated items of a tuple. \n",
    "tuple1 = 1,2,3,4,4,4,5,6,7\n",
    "print(tuple1)\n",
    "count=tuple1.count(4)\n",
    "print(count)"
   ]
  },
  {
   "cell_type": "code",
   "execution_count": 54,
   "id": "ab50b9c3",
   "metadata": {},
   "outputs": [
    {
     "name": "stdout",
     "output_type": "stream",
     "text": [
      "[(1, 2, 3), (4, 5, 6)]\n"
     ]
    }
   ],
   "source": [
    "#23. Write a Python program to remove an empty tuple(s) from a list of tuples. \n",
    "list1= [(1,2,3),(4,5,6),()]\n",
    "for tuple in list1:\n",
    "    if(len(tuple)==0):\n",
    "       list1.remove(tuple)\n",
    "print(list1)"
   ]
  },
  {
   "cell_type": "code",
   "execution_count": 1,
   "id": "11b19881",
   "metadata": {},
   "outputs": [],
   "source": [
    "# 24.Write a Python program to unzip a list of tuples into individual lists. \n"
   ]
  },
  {
   "cell_type": "code",
   "execution_count": 2,
   "id": "cb24c6af",
   "metadata": {},
   "outputs": [
    {
     "name": "stdout",
     "output_type": "stream",
     "text": [
      "{'akash': 10, 'gaurav': 12, 'anand': 14, 'suraj': 20, 'akhil': 25, 'ashish': 30}\n"
     ]
    }
   ],
   "source": [
    "# 25.Write a Python program to convert tuple into dictionary\n",
    "def Convert(tup, di):\n",
    "    di = dict(tup)\n",
    "    return di\n",
    "tups = [(\"akash\", 10), (\"gaurav\", 12), (\"anand\", 14),\n",
    "    (\"suraj\", 20), (\"akhil\", 25), (\"ashish\", 30)]\n",
    "dictionary = {}\n",
    "print (Convert(tups, dictionary))\n"
   ]
  },
  {
   "cell_type": "code",
   "execution_count": 3,
   "id": "680858c8",
   "metadata": {},
   "outputs": [
    {
     "name": "stdout",
     "output_type": "stream",
     "text": [
      "{'Shweta': 24, 'Rushita': 21}\n"
     ]
    }
   ],
   "source": [
    "# 26.How will you create a dictionary using tuples in python\n",
    "# one value is age of student\n",
    "# second value is student name\n",
    "data = ((24, \"Shweta\"), (21, \"Rushita\"))\n",
    "\n",
    "final = dict((value, key) for key, value in data)\n",
    "print(final)\n"
   ]
  },
  {
   "cell_type": "code",
   "execution_count": 4,
   "id": "40843f39",
   "metadata": {},
   "outputs": [],
   "source": [
    "#27. Write a Python script to sort (ascending and descending) a dictionary by\n",
    "# value. "
   ]
  },
  {
   "cell_type": "code",
   "execution_count": 5,
   "id": "c414f4a1",
   "metadata": {},
   "outputs": [
    {
     "name": "stdout",
     "output_type": "stream",
     "text": [
      "{1: 10, 2: 20, 3: 30, 4: 40, 5: 50, 6: 60}\n"
     ]
    }
   ],
   "source": [
    "#28.Write a Python script to concatenate following dictionaries to create a\n",
    "# new one. \n",
    "dic1={1:10, 2:20}\n",
    "dic2={3:30, 4:40}\n",
    "dic3={5:50,6:60}\n",
    "dic4 = {}\n",
    "for d in (dic1, dic2, dic3): dic4.update(d)\n",
    "print(dic4)\n"
   ]
  },
  {
   "cell_type": "code",
   "execution_count": 6,
   "id": "d5019ad2",
   "metadata": {},
   "outputs": [
    {
     "name": "stdout",
     "output_type": "stream",
     "text": [
      "Present,  value = 200\n",
      "Not present\n"
     ]
    }
   ],
   "source": [
    "#29.Write a Python script to check if a given key already exists in a\n",
    "# dictionary\n",
    "def checkKey(dic, key):\n",
    "    if key in dic.keys():\n",
    "        print(\"Present, \", end =\" \")\n",
    "        print(\"value =\", dic[key])\n",
    "    else:\n",
    "        print(\"Not present\")\n",
    "        \n",
    "dic = {'a': 100, 'b':200, 'c':300}\n",
    "key = 'b'\n",
    "checkKey(dic, key)\n",
    "\n",
    "key = 'w'\n",
    "checkKey(dic, key)\n"
   ]
  },
  {
   "cell_type": "code",
   "execution_count": 7,
   "id": "adf9a543",
   "metadata": {},
   "outputs": [
    {
     "name": "stdout",
     "output_type": "stream",
     "text": [
      "{1: 1, 2: 4, 3: 9, 4: 16, 5: 25, 6: 36, 7: 49, 8: 64, 9: 81, 10: 100, 11: 121, 12: 144, 13: 169, 14: 196, 15: 225}\n"
     ]
    }
   ],
   "source": [
    "#30.Write a Python script to print a dictionary where the keys are numbers\n",
    "# between 1 and 15. \n",
    "d=dict()\n",
    "for i in range(1,16):\n",
    "    d[i]=i**2\n",
    "print(d)  \n"
   ]
  },
  {
   "cell_type": "code",
   "execution_count": 11,
   "id": "34dbd514",
   "metadata": {},
   "outputs": [
    {
     "name": "stdout",
     "output_type": "stream",
     "text": [
      "True\n",
      "False\n"
     ]
    }
   ],
   "source": [
    "# 31.Write a Python program to check multiple keys exists in a dictionary \n",
    "age = {\"Shweta\" : 1, \"Neha\" : 2, \"Rushita\" :3}\n",
    "print(age.keys() >= {\"Shweta\", \"Neha\"})\n",
    "print(age.keys() >= {\"Vishal\", \"Megha\"})\n"
   ]
  },
  {
   "cell_type": "code",
   "execution_count": 12,
   "id": "4c6718a1",
   "metadata": {},
   "outputs": [
    {
     "name": "stdout",
     "output_type": "stream",
     "text": [
      "{1: 'a', 2: 'c', 4: 'd'}\n"
     ]
    }
   ],
   "source": [
    "#32.Write a Python script to merge two Python dictionaries \n",
    "dict_1 = {1: 'a', 2: 'b'}\n",
    "dict_2 = {2: 'c', 4: 'd'}\n",
    "\n",
    "print(dict_1 | dict_2)"
   ]
  },
  {
   "cell_type": "code",
   "execution_count": 13,
   "id": "c5318041",
   "metadata": {},
   "outputs": [],
   "source": [
    "# 33.Write a Python program to map two lists into a dictionary \n"
   ]
  },
  {
   "cell_type": "code",
   "execution_count": 14,
   "id": "b8923472",
   "metadata": {},
   "outputs": [
    {
     "name": "stdout",
     "output_type": "stream",
     "text": [
      "Original List:  [{'V': 'S001'}, {'V': 'S002'}, {'VI': 'S001'}, {'VI': 'S005'}, {'VII': 'S005'}, {'V': 'S009'}, {'VIII': 'S007'}]\n",
      "Unique Values:  {'S005', 'S001', 'S009', 'S007', 'S002'}\n"
     ]
    }
   ],
   "source": [
    "#34.Write a Python program to combine two dictionary adding values for\n",
    "# common keys.\n",
    "# d1 = {'a': 100, 'b': 200, 'c':300} o d2 = {'a': 300, 'b': 200,’d’:400}\n",
    "# Sample output: Counter ({'a': 400, 'b': 400,’d’: 400, 'c': 300})\n",
    "L = [{\"V\":\"S001\"}, {\"V\": \"S002\"}, {\"VI\": \"S001\"}, {\"VI\": \"S005\"}, {\"VII\":\"S005\"}, {\"V\":\"S009\"},{\"VIII\":\"S007\"}]\n",
    "print(\"Original List: \",L)\n",
    "u_value = set( val for dic in L for val in dic.values())\n",
    "print(\"Unique Values: \",u_value)\n"
   ]
  },
  {
   "cell_type": "code",
   "execution_count": 15,
   "id": "87a5bc1a",
   "metadata": {},
   "outputs": [],
   "source": [
    "#35.Write a Python program to create and display all combinations of letters,\n",
    "# selecting each letter from a different key in a dictionary.\n",
    "# Sample data: {'1': ['a','b'], '2': ['c','d']}\n",
    "# Expected Output:\n",
    "# ac ad bc bd \n",
    "\n",
    "x= {'1':['a', 'b'], '2':['c', 'd']}\n",
    "y= list(x.values())\n",
    "print(y)\n",
    "for i in y[0]:\n",
    "    for j in y[1]:\n",
    "        print(i,j, sep='')"
   ]
  },
  {
   "cell_type": "code",
   "execution_count": 16,
   "id": "b17381c4",
   "metadata": {},
   "outputs": [],
   "source": [
    "# 36.Write a Python program to find the highest 3 values in a dictionary \n",
    "l1= {'a': 10, 'b': 20, 'c': 10, 'd': 40, 'e': 50, 'f': 20}\n",
    "a=list(l1.values())\n",
    "k=sorted(a,reverse=True)\n",
    "print(k[:3])"
   ]
  },
  {
   "cell_type": "code",
   "execution_count": 17,
   "id": "371db6d6",
   "metadata": {},
   "outputs": [],
   "source": [
    "#37.Write a Python program to combine values in python list of dictionaries.\n",
    "# Sample data: [{'item': 'item1', 'amount': 400}, {'item': 'item2', 'amount':\n",
    "# 300}, o {'item': 'item1', 'amount': 750}]\n",
    "# Expected Output:\n",
    "# Counter ({'item1': 1150, 'item2': 300})\n",
    "m = {}\n",
    "l2 = []\n",
    "\n",
    "l1= [{'item' : 'item1' , 'amount' : 400}, {'item' : 'item2' , 'amount' : 300}, {'item' : 'item1' , 'amount' : 750}]\n",
    "for i in l1:\n",
    "    l2.append(tuple(i.values()))\n",
    "\n",
    "for j in l2:\n",
    "    if j[0] not in m:\n",
    "        m[j[0]] = j[1]\n",
    "    else:\n",
    "        m[j[0]] += j[1]\n",
    "print(m)"
   ]
  },
  {
   "cell_type": "code",
   "execution_count": 7,
   "id": "818e064b",
   "metadata": {},
   "outputs": [
    {
     "name": "stdout",
     "output_type": "stream",
     "text": [
      "{'s': 1, 'h': 1, 'w': 1, 'e': 1, 't': 1, 'a': 1}\n"
     ]
    }
   ],
   "source": [
    "# 38 Write a Python program to create a dictionary from a string.\n",
    "r={}\n",
    "s1='shweta'\n",
    "for i in s1:\n",
    "    \n",
    "    if i not in r:\n",
    "        r[i]=1\n",
    "    else:\n",
    "        r[i]+=1\n",
    "print(r)"
   ]
  },
  {
   "cell_type": "code",
   "execution_count": null,
   "id": "356fdf38",
   "metadata": {},
   "outputs": [],
   "source": [
    "# 39. Write a Python function to calculate the factorial of a number (a \n",
    "# nonnegative integer) \n",
    "def fact(n):\n",
    "    if n==0:\n",
    "        return 1\n",
    "    else:\n",
    "        return n*fact(n-1)\n",
    "n=int(input('Enter number to get factorial: '))\n",
    "r=fact(n)\n",
    "print(r)"
   ]
  },
  {
   "cell_type": "code",
   "execution_count": null,
   "id": "8c208235",
   "metadata": {},
   "outputs": [],
   "source": [
    "# [40] Write a Python function to check whether a number is in a given range.\n",
    "\n",
    "n1=int(input('Enter range a: '))\n",
    "n2=int(input('Enter range b: '))\n",
    "print(f'Range: {n1} - {n2}')\n",
    "n=int(input('\\nEnter any number:'))\n",
    "if n in range(n1,n2):\n",
    "    print(f'Given number {n} is in range.')\n",
    "else:\n",
    "    print(f'Given number {n} is not in range.')"
   ]
  },
  {
   "cell_type": "code",
   "execution_count": null,
   "id": "75dcdf95",
   "metadata": {},
   "outputs": [],
   "source": [
    "# [41] Write a Python function to check whether a number is perfect or not.\n",
    "\n",
    "n=int(input('Enter number: '))\n",
    "k=0\n",
    "for i in range(1,n):\n",
    "    if n%i==0 :\n",
    "        k=k+i\n",
    "if k==n:\n",
    "    print('True')\n",
    "else:\n",
    "    print('False')"
   ]
  },
  {
   "cell_type": "code",
   "execution_count": null,
   "id": "a57ce8c8",
   "metadata": {},
   "outputs": [],
   "source": [
    "# [42]  Write a Python function that checks whether a passed string is palindrome or not.\n",
    "\n",
    "s=input('Enter anything: ')\n",
    "k=''\n",
    "for i in s:\n",
    "    k=i+k\n",
    "if s==k:\n",
    "    print(f'==> \"{k}\" is Palindrome.')\n",
    "else:\n",
    "    print(f'==> \"{k}\" is not Palindrome.')"
   ]
  },
  {
   "cell_type": "code",
   "execution_count": null,
   "id": "3dc414ad",
   "metadata": {},
   "outputs": [],
   "source": [
    "# [43] How do you perform pattern matching in Python? Explain.\n",
    "\n",
    "# There are five different functions provided in re module to perform pattern matching. They are as listed below.\n",
    "\n",
    "# Using re.search() Function\n",
    "# Using re.match() Function\n",
    "# Using re.fullmatch() Function\n",
    "# Using re.findall() Function\n",
    "# Using re.finditer() Function"
   ]
  },
  {
   "cell_type": "code",
   "execution_count": null,
   "id": "0a9c756e",
   "metadata": {},
   "outputs": [],
   "source": [
    "# [44] What is lambda function in python? What we call a function which is incomplete version of a function?\n",
    "\n",
    "# Lambda function is also called as Anonymous function or One-Liner function.\n",
    "# Normal functions are defined using \"def\" keyword,\n",
    "# while lambda/ Anonymous functions can be defined without a name means just by using \"lambda\" keyword."
   ]
  },
  {
   "cell_type": "code",
   "execution_count": null,
   "id": "9c36c746",
   "metadata": {},
   "outputs": [],
   "source": [
    "# [45] How Many Basic Types Of Functions Are Available In Python?\n",
    "\n",
    "# Mainly there are three types of functions.\n",
    "\n",
    "# [1] User Defined functions:  \n",
    "# [2] Built In functions: \n",
    "# [3] Anonymous/ Lambda/ One-Liner functions:"
   ]
  },
  {
   "cell_type": "code",
   "execution_count": null,
   "id": "bdf5a677",
   "metadata": {},
   "outputs": [],
   "source": [
    "# [46] How can you pick a random item from a list or tuple?\n",
    "\n",
    "# Type Cast List of tuples in set & apply pop method.\n",
    "# It will return any random element from list of tuples.\n",
    "\n",
    "l1=[(5,6), (1,2), (3,6), (7,9), (3,8), (6,1)]\n",
    "l2=set(l1)\n",
    "l3=l2.pop()\n",
    "print(l3)"
   ]
  },
  {
   "cell_type": "code",
   "execution_count": null,
   "id": "c1557137",
   "metadata": {},
   "outputs": [],
   "source": [
    "# [47] How can you pick a random item from a range?\n",
    "\n",
    "# Take empty list and append all elements of range in empty list.\n",
    "# Type cast list into set and use pop method to get any random element.\n",
    "\n",
    "s=[]\n",
    "for i in range (25, 33):\n",
    "    s.append(i)\n",
    "k=set(s)\n",
    "ans=k.pop()\n",
    "print('Random item: ',ans)"
   ]
  },
  {
   "cell_type": "code",
   "execution_count": null,
   "id": "f67ce460",
   "metadata": {},
   "outputs": [],
   "source": [
    "# [49] How will you set the starting value in generating random numbers?\n",
    "\n",
    "# We can set the starting value in list datatype only.\n",
    "# Use insert method and add value/ element at index value 0.\n",
    "# Now to get random number type cast list into set and apply pop mehod.\n",
    "\n",
    "s1=[45,89,52,63,42,73,95,41,61,54]\n",
    "n=int(input('Enter number: '))\n",
    "s1.insert(0, n)\n",
    "print(s1)"
   ]
  },
  {
   "cell_type": "code",
   "execution_count": null,
   "id": "46795125",
   "metadata": {},
   "outputs": [],
   "source": [
    "# [50] How will you randomizes the items of a list in place?\n",
    "\n",
    "# Use set method, because of it's \"unordered\" property.\n",
    "\n",
    "l1=[89, 45, 89, 52, 63, 42, 73, 95, 41, 61, 54]\n",
    "l2=set(l1)\n",
    "print(list(l2))"
   ]
  },
  {
   "cell_type": "code",
   "execution_count": null,
   "id": "ee30e3bc",
   "metadata": {},
   "outputs": [],
   "source": [
    "# [51] Write a Python program to convert degree to radian.\n",
    "\n",
    "pi=3.14\n",
    "deg=float(input('Enter Degrees: '))\n",
    "rad= deg*pi/180\n",
    "print('Radians: ',rad)"
   ]
  },
  {
   "cell_type": "code",
   "execution_count": null,
   "id": "35731039",
   "metadata": {},
   "outputs": [],
   "source": [
    "# [52] Write a Python program to calculate the area of a trapezoid.\n",
    "\n",
    "bottom_base=int(input('Bottom base value a: '))\n",
    "upper_base=int(input('Upper base value b: '))\n",
    "height=int(input('Height of Trapezoid: '))\n",
    "area=((bottom_base + upper_base)/2)*height\n",
    "print('\\nArea of Trapezoid: ',area)"
   ]
  },
  {
   "cell_type": "code",
   "execution_count": null,
   "id": "5df288d2",
   "metadata": {},
   "outputs": [],
   "source": [
    "# [53] Write a Python program to calculate the area of a parallelogram.\n",
    "\n",
    "base=int(input('Base value: '))\n",
    "height=int(input('Height value: '))\n",
    "area=base*height\n",
    "print('\\nArea of Parallelogram: ',area)"
   ]
  },
  {
   "cell_type": "code",
   "execution_count": null,
   "id": "ca430ce7",
   "metadata": {},
   "outputs": [],
   "source": [
    "# [54] Write a Python program to calculate surface volume and area of a cylinder.\n",
    "\n",
    "pi= 3.14\n",
    "radius= int(input('Radius value: '))\n",
    "height= int(input('Height value: '))\n",
    "volume= pi*(radius**2)*height\n",
    "area=(2*pi*radius*height)+(2*pi*(radius**2))\n",
    "print('\\nVolume of Cylinder: ',volume)\n",
    "print('Area of Cylinder: ',area)"
   ]
  },
  {
   "cell_type": "code",
   "execution_count": null,
   "id": "ed527331",
   "metadata": {},
   "outputs": [],
   "source": [
    "# [55] Write a Python program to returns sum of all divisors of a number.\n",
    "\n",
    "a=[]\n",
    "sum=0\n",
    "n=int(input('Enter any number: '))\n",
    "for i in range(1, n):\n",
    "    if n%i==0:\n",
    "        a.append(i)\n",
    "        sum+=i\n",
    "print('Divisors: ',a)\n",
    "print('Sum of Divisors: ',sum)"
   ]
  },
  {
   "cell_type": "code",
   "execution_count": null,
   "id": "5b967205",
   "metadata": {},
   "outputs": [],
   "source": [
    "# [56] Write a Python program to find the maximum and minimum numbers \n",
    "#      from the specified decimal numbers.\n",
    "\n",
    "l1=[2.56, 4.23, 45.66, 8.12, 53.77, 6.25, 89.36, 5.85]\n",
    "print('Max value: ',max(l1))\n",
    "print('Min value: ',min(l1))"
   ]
  },
  {
   "cell_type": "code",
   "execution_count": null,
   "id": "cabe552d",
   "metadata": {},
   "outputs": [],
   "source": [
    "#[57] What is List? How will you reverse a list?\n",
    "# Lists are used to store multiple items in a single variable.\n",
    "# Lists are one of 4 built-in data types in Python used to store collections of data\n",
    "l1=[8, 9.56, (5,4), {'a':'b'}, {8,9}, [36,75]]\n",
    "l1.reverse()\n",
    "print(l1)\n"
   ]
  },
  {
   "cell_type": "code",
   "execution_count": null,
   "id": "3fb000ef",
   "metadata": {},
   "outputs": [],
   "source": [
    "# [58] How will you remove last object from a list?\n",
    "s1=[2,3,4,5]\n",
    "s1.pop()   \n",
    "print(s1)"
   ]
  },
  {
   "cell_type": "code",
   "execution_count": null,
   "id": "bd515ae2",
   "metadata": {},
   "outputs": [],
   "source": [
    "# [59] Suppose list1 is [2, 33, 222, 14, and 25], what is list1[-1]?\n",
    "\n",
    "list1=[2, 33, 222, 14, 25]\n",
    "print(list1[-1])"
   ]
  },
  {
   "cell_type": "code",
   "execution_count": null,
   "id": "44a67962",
   "metadata": {},
   "outputs": [],
   "source": [
    "# [60] Differentiatte between append() and extend() methods?\n",
    "\n",
    "s1= [1,2,23,4]\n",
    "s1.append([56,13])\n",
    "print('append: ',s1)\n",
    "\n",
    "\n",
    "s1= [1,2,23,4]\n",
    "s1.extend([56,13])\n",
    "print('extend: ',s1)"
   ]
  },
  {
   "cell_type": "code",
   "execution_count": null,
   "id": "5034d294",
   "metadata": {},
   "outputs": [],
   "source": [
    "# [61] How will you compare two List?\n",
    "\n",
    "list1=[]\n",
    "list2=[]\n",
    "n=int(input('Enter size of List: '))\n",
    "for i in range(n):\n",
    "    list1.append(int(input('Enter Elements L1: ')))\n",
    "list1.sort()\n",
    "for j in range(n):\n",
    "    list2.append(int(input('Enter Elements l2: ')))\n",
    "list2.sort()\n",
    "print()\n",
    "print('L1= ',list1)\n",
    "print('L2= ',list2)\n",
    "if list1==list2:\n",
    "    print(\"\\nLists are equal.\")\n",
    "else:\n",
    "    print(\"Lists are unequal\")"
   ]
  },
  {
   "cell_type": "code",
   "execution_count": null,
   "id": "1cd39876",
   "metadata": {},
   "outputs": [],
   "source": []
  }
 ],
 "metadata": {
  "kernelspec": {
   "display_name": "Python 3 (ipykernel)",
   "language": "python",
   "name": "python3"
  },
  "language_info": {
   "codemirror_mode": {
    "name": "ipython",
    "version": 3
   },
   "file_extension": ".py",
   "mimetype": "text/x-python",
   "name": "python",
   "nbconvert_exporter": "python",
   "pygments_lexer": "ipython3",
   "version": "3.9.13"
  }
 },
 "nbformat": 4,
 "nbformat_minor": 5
}
